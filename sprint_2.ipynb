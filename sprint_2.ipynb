{
 "cells": [
  {
   "cell_type": "markdown",
   "metadata": {},
   "source": [
    "## Final Project name\n",
    "Tytus Suchotinunt\n",
    "DS 4003"
   ]
  },
  {
   "cell_type": "markdown",
   "metadata": {},
   "source": [
    "### Data Introduction: What Is All This Data?\n",
    "I have chosen 3 datasets, which were found in the links listed below.\n",
    "\n",
    "https://transitapp.com/apta\n",
    "\n",
    "https://www.apta.com/research-technical-resources/transit-statistics/ridership-report/ridership-report-archives/\n",
    "\n",
    "This data was from the American Public Transportation Association (APTA), a nonprofit international association of more than 1,500 public and private transportation sector member organizations. The main idea of all 3 datasets is to track, monitor, and analyze public transportation ridership trends throughout America over the years. The different datasets vary in the scope of data collected, with the biggest dataset tracking up-to-date ridership estimates each week for every partner organization. The other two datasets are more general, simply showing aggregate ridership numbers over the years, broken down by different modes of public transportation. \n",
    "\n",
    "While these ridership numbers do not account for every rider in America, they do a good job of showing pretty accurate trends within the industry. APTA is, afterall, a very trusted organization within the public transportation sector. These ridership values are modeled based on measures of Transit app usage (usage of these public transportation's app) to provide a current measure of demand for public transit. While these estimates do not represent actual reported ridership counts from agencies, however it was found that app’s user demographics generally match those of public transit riders overall, both compared to other common survey methods and available U.S. Census data."
   ]
  },
  {
   "cell_type": "markdown",
   "metadata": {},
   "source": [
    "## Data Cleaning"
   ]
  },
  {
   "cell_type": "code",
   "execution_count": 2,
   "metadata": {},
   "outputs": [],
   "source": [
    "# import all libraries\n",
    "import pandas as pd\n",
    "import numpy as np\n",
    "import seaborn as sns\n",
    "import plotly.express as px"
   ]
  },
  {
   "cell_type": "code",
   "execution_count": 3,
   "metadata": {},
   "outputs": [],
   "source": [
    "# load in dataset\n",
    "upt_prediction = pd.read_csv('upt_prediction.csv')\n",
    "mode_quarter = pd.read_csv('APTA-mode-and-quarter.csv')\n",
    "year_end = pd.read_csv('APTA-year-end-totals.csv')\n",
    "\n",
    "#Dataset head if need to see how it loads in\n",
    "#upt_prediction.head()\n",
    "#mode_quarter.head()\n",
    "#year_end.head()"
   ]
  },
  {
   "cell_type": "code",
   "execution_count": 4,
   "metadata": {},
   "outputs": [
    {
     "name": "stdout",
     "output_type": "stream",
     "text": [
      "    Week of  Prediction                          Name  \\\n",
      "0  2/4/2018    248188.0              Foothill Transit   \n",
      "1  2/4/2018    109761.0                      Unitrans   \n",
      "2  2/4/2018    827602.0     Orange County Transp Auth   \n",
      "3  2/4/2018     28367.0     San Joaquin Reg Rail Comm   \n",
      "4  2/4/2018    112487.0  Tompkins Consol Area Transit   \n",
      "\n",
      "                      APTA Name        Size        Region         City  \\\n",
      "0              Foothill Transit         2M+       Pacific  Los Angeles   \n",
      "1                      Unitrans  Under 500k       Pacific   Sacramento   \n",
      "2     Orange County Transp Auth         2M+       Pacific  Los Angeles   \n",
      "3     San Joaquin Reg Rail Comm  Under 500k       Pacific  SF Bay Area   \n",
      "4  Tompkins Consol Area Transit  Under 500k  Mid-Atlantic       Ithaca   \n",
      "\n",
      "    NTD ID  Feed ID  \n",
      "0  90146.0    173.0  \n",
      "1  90142.0    774.0  \n",
      "2  90036.0     86.0  \n",
      "3  90182.0    642.0  \n",
      "4  20145.0    619.0  \n",
      "Week of        object\n",
      "Prediction    float64\n",
      "Name           object\n",
      "APTA Name      object\n",
      "Size           object\n",
      "Region         object\n",
      "City           object\n",
      "NTD ID        float64\n",
      "Feed ID       float64\n",
      "dtype: object\n"
     ]
    }
   ],
   "source": [
    "# analyze the upt_prediction dataset\n",
    "print(upt_prediction.head())\n",
    "print(upt_prediction.dtypes)\n"
   ]
  },
  {
   "cell_type": "code",
   "execution_count": 5,
   "metadata": {},
   "outputs": [
    {
     "name": "stdout",
     "output_type": "stream",
     "text": [
      "Week of       datetime64[ns]\n",
      "Prediction           float64\n",
      "Name                  object\n",
      "APTA Name             object\n",
      "Size                  object\n",
      "Region                object\n",
      "City                  object\n",
      "dtype: object\n"
     ]
    },
    {
     "data": {
      "text/html": [
       "<div>\n",
       "<style scoped>\n",
       "    .dataframe tbody tr th:only-of-type {\n",
       "        vertical-align: middle;\n",
       "    }\n",
       "\n",
       "    .dataframe tbody tr th {\n",
       "        vertical-align: top;\n",
       "    }\n",
       "\n",
       "    .dataframe thead th {\n",
       "        text-align: right;\n",
       "    }\n",
       "</style>\n",
       "<table border=\"1\" class=\"dataframe\">\n",
       "  <thead>\n",
       "    <tr style=\"text-align: right;\">\n",
       "      <th></th>\n",
       "      <th>Week of</th>\n",
       "      <th>Prediction</th>\n",
       "      <th>Name</th>\n",
       "      <th>APTA Name</th>\n",
       "      <th>Size</th>\n",
       "      <th>Region</th>\n",
       "      <th>City</th>\n",
       "    </tr>\n",
       "  </thead>\n",
       "  <tbody>\n",
       "    <tr>\n",
       "      <th>0</th>\n",
       "      <td>2018-02-04</td>\n",
       "      <td>248188.0</td>\n",
       "      <td>Foothill Transit</td>\n",
       "      <td>Foothill Transit</td>\n",
       "      <td>2M+</td>\n",
       "      <td>Pacific</td>\n",
       "      <td>Los Angeles</td>\n",
       "    </tr>\n",
       "    <tr>\n",
       "      <th>1</th>\n",
       "      <td>2018-02-04</td>\n",
       "      <td>109761.0</td>\n",
       "      <td>Unitrans</td>\n",
       "      <td>Unitrans</td>\n",
       "      <td>Under 500k</td>\n",
       "      <td>Pacific</td>\n",
       "      <td>Sacramento</td>\n",
       "    </tr>\n",
       "    <tr>\n",
       "      <th>2</th>\n",
       "      <td>2018-02-04</td>\n",
       "      <td>827602.0</td>\n",
       "      <td>Orange County Transp Auth</td>\n",
       "      <td>Orange County Transp Auth</td>\n",
       "      <td>2M+</td>\n",
       "      <td>Pacific</td>\n",
       "      <td>Los Angeles</td>\n",
       "    </tr>\n",
       "    <tr>\n",
       "      <th>3</th>\n",
       "      <td>2018-02-04</td>\n",
       "      <td>28367.0</td>\n",
       "      <td>San Joaquin Reg Rail Comm</td>\n",
       "      <td>San Joaquin Reg Rail Comm</td>\n",
       "      <td>Under 500k</td>\n",
       "      <td>Pacific</td>\n",
       "      <td>SF Bay Area</td>\n",
       "    </tr>\n",
       "    <tr>\n",
       "      <th>4</th>\n",
       "      <td>2018-02-04</td>\n",
       "      <td>112487.0</td>\n",
       "      <td>Tompkins Consol Area Transit</td>\n",
       "      <td>Tompkins Consol Area Transit</td>\n",
       "      <td>Under 500k</td>\n",
       "      <td>Mid-Atlantic</td>\n",
       "      <td>Ithaca</td>\n",
       "    </tr>\n",
       "  </tbody>\n",
       "</table>\n",
       "</div>"
      ],
      "text/plain": [
       "     Week of  Prediction                          Name  \\\n",
       "0 2018-02-04    248188.0              Foothill Transit   \n",
       "1 2018-02-04    109761.0                      Unitrans   \n",
       "2 2018-02-04    827602.0     Orange County Transp Auth   \n",
       "3 2018-02-04     28367.0     San Joaquin Reg Rail Comm   \n",
       "4 2018-02-04    112487.0  Tompkins Consol Area Transit   \n",
       "\n",
       "                      APTA Name        Size        Region         City  \n",
       "0              Foothill Transit         2M+       Pacific  Los Angeles  \n",
       "1                      Unitrans  Under 500k       Pacific   Sacramento  \n",
       "2     Orange County Transp Auth         2M+       Pacific  Los Angeles  \n",
       "3     San Joaquin Reg Rail Comm  Under 500k       Pacific  SF Bay Area  \n",
       "4  Tompkins Consol Area Transit  Under 500k  Mid-Atlantic       Ithaca  "
      ]
     },
     "execution_count": 5,
     "metadata": {},
     "output_type": "execute_result"
    }
   ],
   "source": [
    "# drop the columns that I will not use\n",
    "upt_drop = ['NTD ID', 'Feed ID']\n",
    "upt_prediction.drop(upt_drop, inplace=True, axis=1)\n",
    "\n",
    "# drop all rows with unknown/missing values\n",
    "upt_prediction.dropna()\n",
    "\n",
    "# change week type from obj to datetime\n",
    "upt_prediction['Week of'] = pd.to_datetime(upt_prediction['Week of'])\n",
    "print(upt_prediction.dtypes)\n",
    "\n",
    "# Make sure the dataset looks good!\n",
    "upt_prediction.head()\n"
   ]
  },
  {
   "cell_type": "code",
   "execution_count": 6,
   "metadata": {},
   "outputs": [
    {
     "name": "stdout",
     "output_type": "stream",
     "text": [
      "  Quarter Unnamed: 1  Year Total Ridership Heavy Rail Light Rail  \\\n",
      "0      Q1  1990 - Q1  1990       2,256,422    606,580     36,898   \n",
      "1      Q2  1990 - Q2  1990       2,163,608    577,237     40,470   \n",
      "2      Q3  1990 - Q3  1990       2,071,195    546,929     41,676   \n",
      "3      Q4  1990 - Q4  1990       2,198,460    567,572     43,093   \n",
      "4      Q1  1991 - Q1  1991       2,068,031    515,379     39,260   \n",
      "\n",
      "  Commuter Rail Trolleybus        Bus Demand Response Other  \n",
      "0        82,274        NaN  1,457,932          18,223   NaN  \n",
      "1        84,150        NaN  1,389,602          17,703   NaN  \n",
      "2        81,481        NaN  1,325,863          16,614   NaN  \n",
      "3        82,754        NaN  1,435,452          17,514   NaN  \n",
      "4        79,746        NaN  1,364,428          17,808   NaN  \n",
      "Quarter            object\n",
      "Unnamed: 1         object\n",
      "Year                int64\n",
      "Total Ridership    object\n",
      "Heavy Rail         object\n",
      "Light Rail         object\n",
      "Commuter Rail      object\n",
      "Trolleybus         object\n",
      "Bus                object\n",
      "Demand Response    object\n",
      "Other              object\n",
      "dtype: object\n"
     ]
    }
   ],
   "source": [
    "# analyze the mode_quarter dataset\n",
    "print(mode_quarter.head())\n",
    "print(mode_quarter.dtypes)"
   ]
  },
  {
   "cell_type": "code",
   "execution_count": 7,
   "metadata": {},
   "outputs": [
    {
     "name": "stdout",
     "output_type": "stream",
     "text": [
      "  Quarter  Year  Total Ridership  Heavy Rail  Light Rail  Commuter Rail  \\\n",
      "0      Q1  1990        2256422.0    606580.0     36898.0        82274.0   \n",
      "1      Q2  1990        2163608.0    577237.0     40470.0        84150.0   \n",
      "2      Q3  1990        2071195.0    546929.0     41676.0        81481.0   \n",
      "3      Q4  1990        2198460.0    567572.0     43093.0        82754.0   \n",
      "4      Q1  1991        2068031.0    515379.0     39260.0        79746.0   \n",
      "\n",
      "   Trolleybus        Bus  Demand Response  Other  \n",
      "0         NaN  1457932.0          18223.0    NaN  \n",
      "1         NaN  1389602.0          17703.0    NaN  \n",
      "2         NaN  1325863.0          16614.0    NaN  \n",
      "3         NaN  1435452.0          17514.0    NaN  \n",
      "4         NaN  1364428.0          17808.0    NaN  \n",
      "Quarter             object\n",
      "Year                 int64\n",
      "Total Ridership    float64\n",
      "Heavy Rail         float64\n",
      "Light Rail         float64\n",
      "Commuter Rail      float64\n",
      "Trolleybus         float64\n",
      "Bus                float64\n",
      "Demand Response    float64\n",
      "Other              float64\n",
      "dtype: object\n"
     ]
    }
   ],
   "source": [
    "# drop the columns that I will not use\n",
    "mode_quarter.drop('Unnamed: 1', inplace=True, axis=1)\n",
    "\n",
    "# trying to change all columns from obj to float, except the Quarter and year column, so single it out\n",
    "columns_to_convert1 = mode_quarter.columns[~mode_quarter.columns.isin(['Quarter', 'Year'])]\n",
    "\n",
    "# in order to change all obj to float, first remove the commas from the numbers\n",
    "mode_quarter[columns_to_convert1] = mode_quarter[columns_to_convert1].applymap(lambda x: float(str(x).replace(',', '')))\n",
    "\n",
    "# change all columns from obj to float (except Quarter column)\n",
    "mode_quarter[columns_to_convert1] = mode_quarter[columns_to_convert1].astype(float)\n",
    "\n",
    "# Make sure the dataset looks good!\n",
    "print(mode_quarter.head())\n",
    "print(mode_quarter.dtypes)"
   ]
  },
  {
   "cell_type": "code",
   "execution_count": 8,
   "metadata": {},
   "outputs": [
    {
     "name": "stdout",
     "output_type": "stream",
     "text": [
      "     Year Total Ridership Heavy Rail Light Rail Commuter Rail Trolleybus  \\\n",
      "0  1990.0       8,956,479  2,420,196    146,443       327,547   in other   \n",
      "1  1991.0       8,483,877  2,182,759    170,726       325,186   in other   \n",
      "2  1992.0       8,555,107  2,064,773    162,994       326,443   in other   \n",
      "3  1993.0       8,452,120  2,172,905    168,451       329,591    125,464   \n",
      "4  1994.0       8,450,736  2,278,945    232,884       349,542    118,524   \n",
      "\n",
      "         Bus Demand Response    Other  \n",
      "0  5,740,648         106,984  214,660  \n",
      "1  5,526,171          72,108  206,927  \n",
      "2  5,699,502          98,116  203,280  \n",
      "3  5,487,952          94,119   73,639  \n",
      "4  5,284,821          98,024   87,994  \n",
      "Year               float64\n",
      "Total Ridership     object\n",
      "Heavy Rail          object\n",
      "Light Rail          object\n",
      "Commuter Rail       object\n",
      "Trolleybus          object\n",
      "Bus                 object\n",
      "Demand Response     object\n",
      "Other               object\n",
      "dtype: object\n"
     ]
    }
   ],
   "source": [
    "# analyze the year_end dataset\n",
    "print(year_end.head())\n",
    "print(year_end.dtypes)"
   ]
  },
  {
   "cell_type": "code",
   "execution_count": 9,
   "metadata": {},
   "outputs": [
    {
     "name": "stdout",
     "output_type": "stream",
     "text": [
      "   Year  Total Ridership  Heavy Rail  Light Rail  Commuter Rail  Trolleybus  \\\n",
      "0  1990        8956479.0   2420196.0    146443.0       327547.0         NaN   \n",
      "1  1991        8483877.0   2182759.0    170726.0       325186.0         NaN   \n",
      "2  1992        8555107.0   2064773.0    162994.0       326443.0         NaN   \n",
      "3  1993        8452120.0   2172905.0    168451.0       329591.0    125464.0   \n",
      "4  1994        8450736.0   2278945.0    232884.0       349542.0    118524.0   \n",
      "\n",
      "         Bus  Demand Response     Other  \n",
      "0  5740648.0         106984.0  214660.0  \n",
      "1  5526171.0          72108.0  206927.0  \n",
      "2  5699502.0          98116.0  203280.0  \n",
      "3  5487952.0          94119.0   73639.0  \n",
      "4  5284821.0          98024.0   87994.0  \n",
      "Year                 Int64\n",
      "Total Ridership    float64\n",
      "Heavy Rail         float64\n",
      "Light Rail         float64\n",
      "Commuter Rail      float64\n",
      "Trolleybus         float64\n",
      "Bus                float64\n",
      "Demand Response    float64\n",
      "Other              float64\n",
      "dtype: object\n"
     ]
    }
   ],
   "source": [
    "# change year from float to int\n",
    "year_end['Year'] = year_end['Year'].astype('Int64')\n",
    "\n",
    "# replace 'in other' value in 'Trolley' column with NaN\n",
    "year_end['Trolleybus'].replace('in other', np.nan, inplace=True)\n",
    "\n",
    "# trying to change all columns from obj to float, except the year column, so single it out\n",
    "columns_to_convert2 = year_end.columns[year_end.columns != 'Year']\n",
    "\n",
    "# in order to change all obj to float, first remove the commas from the numbers\n",
    "year_end[columns_to_convert2] = year_end[columns_to_convert2].applymap(lambda x: float(str(x).replace(',', '')))\n",
    "\n",
    "# change all columns from obj to float (except year column)\n",
    "year_end[columns_to_convert2] = year_end[columns_to_convert2].astype(float)\n",
    "\n",
    "# Make sure the dataset looks good!\n",
    "print(year_end.head())\n",
    "print(year_end.dtypes)"
   ]
  },
  {
   "cell_type": "code",
   "execution_count": 9,
   "metadata": {},
   "outputs": [],
   "source": [
    "# exporting all my data to 3 seperate csv files\n",
    "\n",
    "upt_prediction.to_csv('data1.csv', index=False)\n",
    "mode_quarter.to_csv('data2.csv', index=False)\n",
    "year_end.to_csv('data3.csv', index=False)"
   ]
  },
  {
   "cell_type": "markdown",
   "metadata": {},
   "source": [
    "## Exploratory Analysis\n",
    "Data1 (the upt_prediction csv) has a total of 41580 rows of data, which is a lot of observations! Unlike the other two datasets, this one also has many unique categories. There are 132 unique transportation agency's data within this dataset, spanning across 69 cities and 8 regions of the United States. Within these transportation systems, there is also 4 unique sizes of transportation services (from small organizations to organizations that serve over 2 million people). There were very few Null values in the dataset. I ended up dropping them due to there being minimal null values compared to the amount of observations, so it'd be best just to clean my dataset.\n",
    "\n",
    "Data2 (the mode_quarter csv) has a total of 135 observations, which spans over 33 years of collected data, each broken up quarterly. This dataset did have missing ridership values within the first few years of the trolleybus column, I decided to drop these values. That data, according to the website, was left blank because those first few years the trolleybus ridership data was instead put into the \"other\" column. This is something to keep in mind when looking at graphs produced by this data later down the road. Looking at the basic stastical analysis of this dataset shows that there are clear favorites of public transportation method, that being heavy rail and bus.\n",
    "\n",
    "Data3 (the year_end csv) has a total of 33 observations, one for each year these past 33 years. This dataset also had missing values for the first few years of the trolleybus column. The reasoing was the same as cited above, so it is important to keep this in mind when doing data analysis. As stated above, looking at the preliminary statstical analysis shows that the most used public transportation methods would be heavy rail and bus. From viewing the ridership numbers, it is clear that the covid-19 pandemic has negatively impacted ridership numbers. While ridership is on the rise post pandemic, it still has not reached pre-pandemic levels. It would be interesting to see this visualized!"
   ]
  },
  {
   "cell_type": "code",
   "execution_count": 12,
   "metadata": {},
   "outputs": [
    {
     "name": "stdout",
     "output_type": "stream",
     "text": [
      "<class 'pandas.core.frame.DataFrame'>\n",
      "RangeIndex: 41580 entries, 0 to 41579\n",
      "Data columns (total 7 columns):\n",
      " #   Column      Non-Null Count  Dtype         \n",
      "---  ------      --------------  -----         \n",
      " 0   Week of     41580 non-null  datetime64[ns]\n",
      " 1   Prediction  41580 non-null  float64       \n",
      " 2   Name        41580 non-null  object        \n",
      " 3   APTA Name   41580 non-null  object        \n",
      " 4   Size        41580 non-null  object        \n",
      " 5   Region      41580 non-null  object        \n",
      " 6   City        41265 non-null  object        \n",
      "dtypes: datetime64[ns](1), float64(1), object(5)\n",
      "memory usage: 2.2+ MB\n",
      "None\n",
      "<class 'pandas.core.frame.DataFrame'>\n",
      "RangeIndex: 135 entries, 0 to 134\n",
      "Data columns (total 10 columns):\n",
      " #   Column           Non-Null Count  Dtype  \n",
      "---  ------           --------------  -----  \n",
      " 0   Quarter          135 non-null    object \n",
      " 1   Year             135 non-null    int64  \n",
      " 2   Total Ridership  135 non-null    float64\n",
      " 3   Heavy Rail       135 non-null    float64\n",
      " 4   Light Rail       135 non-null    float64\n",
      " 5   Commuter Rail    135 non-null    float64\n",
      " 6   Trolleybus       127 non-null    float64\n",
      " 7   Bus              135 non-null    float64\n",
      " 8   Demand Response  135 non-null    float64\n",
      " 9   Other            127 non-null    float64\n",
      "dtypes: float64(8), int64(1), object(1)\n",
      "memory usage: 10.7+ KB\n",
      "None\n",
      "<class 'pandas.core.frame.DataFrame'>\n",
      "RangeIndex: 34 entries, 0 to 33\n",
      "Data columns (total 9 columns):\n",
      " #   Column           Non-Null Count  Dtype  \n",
      "---  ------           --------------  -----  \n",
      " 0   Year             33 non-null     Int64  \n",
      " 1   Total Ridership  33 non-null     float64\n",
      " 2   Heavy Rail       33 non-null     float64\n",
      " 3   Light Rail       33 non-null     float64\n",
      " 4   Commuter Rail    33 non-null     float64\n",
      " 5   Trolleybus       30 non-null     float64\n",
      " 6   Bus              33 non-null     float64\n",
      " 7   Demand Response  33 non-null     float64\n",
      " 8   Other            33 non-null     float64\n",
      "dtypes: Int64(1), float64(8)\n",
      "memory usage: 2.5 KB\n",
      "None\n"
     ]
    }
   ],
   "source": [
    "# have a quick overview of the dataset\n",
    "print(upt_prediction.info())\n",
    "print(mode_quarter.info())\n",
    "print(year_end.info())"
   ]
  },
  {
   "cell_type": "code",
   "execution_count": 17,
   "metadata": {},
   "outputs": [
    {
     "name": "stdout",
     "output_type": "stream",
     "text": [
      "              Year  Total Ridership    Heavy Rail     Light Rail  \\\n",
      "count   135.000000     1.350000e+02  1.350000e+02     135.000000   \n",
      "mean   2006.377778     2.271985e+06  7.202221e+05   89929.125926   \n",
      "std       9.779560     3.989737e+05  1.894795e+05   32088.489250   \n",
      "min    1990.000000     6.209250e+05  1.222490e+05   33137.000000   \n",
      "25%    1998.000000     2.077336e+06  5.717830e+05   65349.000000   \n",
      "50%    2006.000000     2.366098e+06  6.781960e+05   83869.000000   \n",
      "75%    2015.000000     2.563128e+06  9.051295e+05  123489.000000   \n",
      "max    2023.000000     2.729424e+06  1.015234e+06  140828.000000   \n",
      "\n",
      "       Commuter Rail    Trolleybus           Bus  Demand Response  \\\n",
      "count     135.000000    127.000000  1.350000e+02       135.000000   \n",
      "mean    99984.688889  24594.834646  1.267697e+06     36109.170370   \n",
      "std     22460.322259   6467.580604  2.181805e+05     13370.207006   \n",
      "min     13521.000000   3395.000000  4.205780e+05     16614.000000   \n",
      "25%     87739.000000  21853.500000  1.242940e+06     24843.000000   \n",
      "50%    104023.000000  25638.000000  1.327298e+06     30071.000000   \n",
      "75%    116065.500000  29076.000000  1.388294e+06     50254.000000   \n",
      "max    130970.000000  38433.000000  1.515813e+06     59535.000000   \n",
      "\n",
      "              Other  \n",
      "count    127.000000  \n",
      "mean   33908.236220  \n",
      "std    13152.825794  \n",
      "min    11140.000000  \n",
      "25%    22750.500000  \n",
      "50%    29753.000000  \n",
      "75%    46635.500000  \n",
      "max    60372.000000  \n",
      "          Year  Total Ridership    Heavy Rail     Light Rail  Commuter Rail  \\\n",
      "count     33.0     3.300000e+01  3.300000e+01      33.000000      33.000000   \n",
      "mean    2006.0     9.166858e+06  2.899499e+06  358994.939394  402395.848485   \n",
      "std    9.66954     1.517110e+06  7.359566e+05  130187.619591   85851.980635   \n",
      "min     1990.0     4.709727e+06  1.483802e+06  146443.000000  175350.000000   \n",
      "25%     1998.0     8.490116e+06  2.278452e+06  261619.000000  352312.000000   \n",
      "50%     2006.0     9.504693e+06  2.706211e+06  329261.000000  411840.000000   \n",
      "75%     2014.0     1.025789e+07  3.648330e+06  488504.000000  466434.000000   \n",
      "max     2022.0     1.073617e+07  3.945569e+06  548006.000000  510443.000000   \n",
      "\n",
      "          Trolleybus           Bus  Demand Response          Other  \n",
      "count      30.000000  3.300000e+01        33.000000      33.000000  \n",
      "mean    97945.633333  5.126584e+06    145738.424242  144569.363636  \n",
      "std     24476.320660  8.432511e+05     52494.674863   52000.422864  \n",
      "min     27121.000000  2.509121e+06     72108.000000   73639.000000  \n",
      "25%     89242.250000  4.992529e+06    106984.000000   96864.000000  \n",
      "50%    102937.500000  5.360392e+06    117366.000000  122980.000000  \n",
      "75%    117080.000000  5.608516e+06    202383.000000  192191.000000  \n",
      "max    126469.000000  5.940332e+06    233224.000000  214660.000000  \n"
     ]
    }
   ],
   "source": [
    "# Quick statstical summary of data2 and data3 datasets\n",
    "print(mode_quarter.describe())\n",
    "print(year_end.describe())"
   ]
  },
  {
   "cell_type": "code",
   "execution_count": 16,
   "metadata": {},
   "outputs": [
    {
     "data": {
      "text/plain": [
       "Week of         315\n",
       "Prediction    39841\n",
       "Name            132\n",
       "APTA Name       132\n",
       "Size              4\n",
       "Region            8\n",
       "City             69\n",
       "dtype: int64"
      ]
     },
     "execution_count": 16,
     "metadata": {},
     "output_type": "execute_result"
    }
   ],
   "source": [
    "# unique values in upt_pred\n",
    "upt_prediction.nunique()"
   ]
  },
  {
   "cell_type": "markdown",
   "metadata": {},
   "source": [
    "## Data Dictionary\n",
    "\n",
    "### Dataset 1\n",
    "Week of - The time of which the data was collected, in week format using M/D/Y.\n",
    "\n",
    "Prediction - The (pretty accurate) estimated amount of riders of public transportation\n",
    "\n",
    "Name - The name of the public transportation provider\n",
    "\n",
    "APTA Name - The name of the public transportation provider within the American Public Transportation Association system (the actual names vs the names within the APTA system simply may differ)\n",
    "\n",
    "Size - The size of the specified public transportation system based on the amount of people they serve\n",
    "\n",
    "Region - The US region in which the public transportation system is located and serves\n",
    "\n",
    "City - The city in which the public transportation system is located and serves\n",
    "\n",
    "### Dataset 2 and Dataset 3 (they share many of the same variables)\n",
    "Quarter - The quarter of the year in which the data was collected (Q1 being Jan-March, Q2 being April-June, Q3 being July-September, Q4 being October-December)\n",
    "\n",
    "Year - The year in which the data was collected\n",
    "\n",
    "Total Ridership - The total ridership documented for all public transportation modes\n",
    "\n",
    "Heavy Rail - The total ridership for heavy rail, a mode of transit service (also called metro, subway, rapid transit, or rapid rail) operating on an electric railway with the capacity for a heavy volume of traffic. It is characterized by high speed and rapid acceleration passenger rail cars operating singly or in multi‐car trains on fixed rails; separate rights‐of‐way from which all other vehicular and foot traffic are excluded; sophisticated\n",
    "signaling, and high platform loading\n",
    "\n",
    "Light Rail - The total ridership from light rail, a mode of transit service (also called streetcar, tramway, or trolley) operating passenger rail cars singly (or in short, usually two‐car or three‐car, trains) on fixed rails in right‐of‐way that is often separated from other traffic for part or much of the way. Light rail vehicles are typically driven electrically with power being drawn from an overhead electric line via a trolley or a pantograph; driven by an operator on board the vehicle; and may have either high platform loading or low level boarding using steps\n",
    "\n",
    "Commuter Rail - The total ridership from commuter rail, a mode of transit service (also called metropolitan rail, regional rail, or suburban\n",
    "rail) characterized by an electric or diesel propelled railway for urban passenger train service consisting of local short distance travel operating between a central city and adjacent suburbs. Such rail service, using either locomotive hauled or self‐propelled railroad passenger cars, is generally characterized by multi‐trip tickets, specific station to station fares, railroad employment practices and usually only one or two stations in the central business district. Intercity rail service is excluded, except for that portion of such service that is operated by or under contract with a public transit agency for predominantly commuter services. Most service is provided on routes of current or former freight railroads\n",
    "\n",
    "Trolleybus - The total ridership from trolleybus, a mode of transit service (also called trolley coach) using vehicles propelled by a motor drawing current from overhead wires via connecting poles called a trolley poles from a central power source not on board the vehicle\n",
    "\n",
    "Bus - The total ridership from bus, a mode of transit service (also called motor bus) characterized by roadway vehicles powered by diesel, gasoline, battery, or alternative fuel engines contained within the vehicle. Vehicles operate on streets and roadways in fixed‐route or other regular service. Types of bus service include local service, where vehicles may stop every block or two along a route several miles long\n",
    "\n",
    "Demand Response - The total ridership from demand response, a mode of transit service (also called Paratransit or dial‐a‐ride) characterized by the use of passenger automobiles, vans or small buses operating in response to calls from passengers or their agents to the transit operator, who then dispatches a vehicle to pick up the passengers and transport them to their destinations. The vehicles do not operate over a fixed route or on a fixed schedule. The vehicle may be dispatched to pick up several passengers at different pick‐up points before taking them to their respective destinations and may even be interrupted en route to these destinations to pick up other passengers \n",
    "\n",
    "Other - The total ridership from other sources of public transportation. This section can include ferry boat trips, cable cars, etc"
   ]
  },
  {
   "cell_type": "markdown",
   "metadata": {},
   "source": [
    "## Brainstorming\n",
    "\n",
    "Some possible UI components for this project could be a slider to progress through the time periods, a dropdown menu to provide options for filtering the data (looking at only heavy rail, or looking at only east coast systems), a text input to help select from the list of 50 avaiable cities, a button that would then trigger some type of update to the dashboard, and of course charts and graphs to visualize all this data.\n",
    "\n",
    "For data visualizaion, I see a line graph fitting very nicely due to the time x axis against a y ridership number axis. With this visualization, different colored lines can represent different filters (such as mode of transport or region). I also would find a pie chart intersting to see the distribution of different modes of transportation. I would also find it interesting to do a map to plot locations of transportation agencies and use sizes of said points to represent total ridership. Similarily, I could do a heatmap to show the distribution of ridership across America."
   ]
  }
 ],
 "metadata": {
  "kernelspec": {
   "display_name": "ds4003",
   "language": "python",
   "name": "python3"
  },
  "language_info": {
   "codemirror_mode": {
    "name": "ipython",
    "version": 3
   },
   "file_extension": ".py",
   "mimetype": "text/x-python",
   "name": "python",
   "nbconvert_exporter": "python",
   "pygments_lexer": "ipython3",
   "version": "3.8.18"
  }
 },
 "nbformat": 4,
 "nbformat_minor": 2
}
